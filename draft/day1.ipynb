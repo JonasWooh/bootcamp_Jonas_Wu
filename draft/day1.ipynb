{
 "cells": [
  {
   "cell_type": "code",
   "execution_count": 7,
   "id": "74a3d587",
   "metadata": {},
   "outputs": [],
   "source": [
    "import time\n",
    "\n"
   ]
  },
  {
   "cell_type": "code",
   "execution_count": 8,
   "id": "f49ed813",
   "metadata": {},
   "outputs": [],
   "source": [
    "def add_numbers(a, b):\n",
    "    \"\"\"This is the original function we don't want to change.\"\"\"\n",
    "    print(\"...Core logic is running...\")\n",
    "    time.sleep(.5)  # Simulate a time-consuming task\n",
    "    return a + b"
   ]
  },
  {
   "cell_type": "code",
   "execution_count": 9,
   "id": "1ed8e031",
   "metadata": {},
   "outputs": [],
   "source": [
    "def timing_wrapper(original_function):\n",
    "    \"\"\"This function wraps another function to measure its execution time.\"\"\"\n",
    "    \n",
    "    def wrapped_function(*args, **kwargs):\n",
    "\n",
    "        start_time = time.time()\n",
    "        print(f\"Starting '{original_function.__name__}'...\")\n",
    "\n",
    "        result = original_function(*args, **kwargs)\n",
    "\n",
    "        end_time = time.time()\n",
    "        duration = end_time - start_time\n",
    "        print(f\"Finished '{original_function.__name__}' in {duration:.2f} seconds.\")\n",
    "        \n",
    "        return result\n",
    "    \n",
    "    return wrapped_function"
   ]
  },
  {
   "cell_type": "code",
   "execution_count": 10,
   "id": "3d2d206b",
   "metadata": {},
   "outputs": [
    {
     "name": "stdout",
     "output_type": "stream",
     "text": [
      "Starting 'add_numbers'...\n",
      "...Core logic is running...\n",
      "Finished 'add_numbers' in 0.51 seconds.\n",
      "\n",
      "Final Result: 3\n"
     ]
    }
   ],
   "source": [
    "timed_add_function = timing_wrapper(add_numbers)\n",
    "\n",
    "result = timed_add_function(1, 2)\n",
    "\n",
    "print(f\"\\nFinal Result: {result}\")"
   ]
  }
 ],
 "metadata": {
  "kernelspec": {
   "display_name": "bootcamp_env",
   "language": "python",
   "name": "python3"
  },
  "language_info": {
   "codemirror_mode": {
    "name": "ipython",
    "version": 3
   },
   "file_extension": ".py",
   "mimetype": "text/x-python",
   "name": "python",
   "nbconvert_exporter": "python",
   "pygments_lexer": "ipython3",
   "version": "3.10.18"
  }
 },
 "nbformat": 4,
 "nbformat_minor": 5
}
