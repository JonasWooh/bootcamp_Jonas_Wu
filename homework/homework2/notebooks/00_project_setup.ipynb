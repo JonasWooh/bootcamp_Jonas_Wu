{
 "cells": [
  {
   "cell_type": "code",
   "execution_count": 7,
   "id": "801a1976",
   "metadata": {},
   "outputs": [],
   "source": [
    "# Environment & Config Check"
   ]
  },
  {
   "cell_type": "code",
   "execution_count": 8,
   "id": "7e36d33e",
   "metadata": {},
   "outputs": [
    {
     "name": "stdout",
     "output_type": "stream",
     "text": [
      "API_KEY present: True\n",
      "\n",
      "NumPy check successful: [1 6] + [3 9] = [ 4 15]\n"
     ]
    }
   ],
   "source": [
    "import sys\n",
    "# Add the src directory to the system path\n",
    "# This allows us to import our config.py file\n",
    "sys.path.append('../src')\n",
    "\n",
    "import numpy as np\n",
    "import config\n",
    "\n",
    "# 1. Load environment variables from .env file\n",
    "config.load_environment()\n",
    "\n",
    "# 2. Check if the API key is loaded\n",
    "api_key = config.get_api_key()\n",
    "if api_key:\n",
    "    print(f\"API_KEY present: True\")\n",
    "else:\n",
    "    print(f\"API_KEY present: False\")\n",
    "\n",
    "# 3. Verify NumPy is working\n",
    "a = np.array([1, 6])\n",
    "b = np.array([3, 9])\n",
    "print(f\"\\nNumPy check successful: {a} + {b} = {a + b}\")"
   ]
  }
 ],
 "metadata": {
  "kernelspec": {
   "display_name": "fe-course",
   "language": "python",
   "name": "python3"
  },
  "language_info": {
   "codemirror_mode": {
    "name": "ipython",
    "version": 3
   },
   "file_extension": ".py",
   "mimetype": "text/x-python",
   "name": "python",
   "nbconvert_exporter": "python",
   "pygments_lexer": "ipython3",
   "version": "3.11.13"
  }
 },
 "nbformat": 4,
 "nbformat_minor": 5
}
