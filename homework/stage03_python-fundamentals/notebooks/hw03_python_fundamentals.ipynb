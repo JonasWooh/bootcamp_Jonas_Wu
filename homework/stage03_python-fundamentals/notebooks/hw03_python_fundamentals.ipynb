{
 "cells": [
  {
   "cell_type": "code",
   "execution_count": 5,
   "id": "c59f5d7a",
   "metadata": {},
   "outputs": [],
   "source": [
    "# Stage 03: Python Fundamentals Homework"
   ]
  },
  {
   "cell_type": "code",
   "execution_count": 6,
   "id": "21235dbe",
   "metadata": {},
   "outputs": [
    {
     "name": "stdout",
     "output_type": "stream",
     "text": [
      "First 5 elements of sum array: [ 2  4  6  8 10]\n",
      "First 5 elements of product array: [ 1  4  9 16 25]\n",
      "\n",
      "Time taken with loop: 0.217173 seconds\n",
      "Time taken with vectorized operation: 0.001738 seconds\n"
     ]
    }
   ],
   "source": [
    "import numpy as np\n",
    "import time\n",
    "\n",
    "array_a = np.arange(1, 1000001)\n",
    "array_b = np.arange(1, 1000001)\n",
    "\n",
    "array_sum = array_a + array_b\n",
    "array_prod = array_a * array_b\n",
    "\n",
    "print(f\"First 5 elements of sum array: {array_sum[:5]}\")\n",
    "print(f\"First 5 elements of product array: {array_prod[:5]}\\n\")\n",
    "\n",
    "# Here using a normal loop\n",
    "start_time_loop = time.time()\n",
    "result_loop = np.zeros(len(array_a))\n",
    "for i in range(len(array_a)):\n",
    "    result_loop[i] = array_a[i] + array_b[i]\n",
    "end_time_loop = time.time()\n",
    "print(f\"Time taken with loop: {end_time_loop - start_time_loop:.6f} seconds\")\n",
    "\n",
    "# Here using vectorized operation\n",
    "start_time_vectorized = time.time()\n",
    "result_vectorized = array_a + array_b\n",
    "end_time_vectorized = time.time()\n",
    "print(f\"Time taken with vectorized operation: {end_time_vectorized - start_time_vectorized:.6f} seconds\")"
   ]
  },
  {
   "cell_type": "code",
   "execution_count": 7,
   "id": "1439b6eb",
   "metadata": {},
   "outputs": [
    {
     "name": "stdout",
     "output_type": "stream",
     "text": [
      "<class 'pandas.core.frame.DataFrame'>\n",
      "RangeIndex: 10 entries, 0 to 9\n",
      "Data columns (total 3 columns):\n",
      " #   Column    Non-Null Count  Dtype \n",
      "---  ------    --------------  ----- \n",
      " 0   category  10 non-null     object\n",
      " 1   value     10 non-null     int64 \n",
      " 2   date      10 non-null     object\n",
      "dtypes: int64(1), object(2)\n",
      "memory usage: 372.0+ bytes\n"
     ]
    },
    {
     "data": {
      "text/html": [
       "<div>\n",
       "<style scoped>\n",
       "    .dataframe tbody tr th:only-of-type {\n",
       "        vertical-align: middle;\n",
       "    }\n",
       "\n",
       "    .dataframe tbody tr th {\n",
       "        vertical-align: top;\n",
       "    }\n",
       "\n",
       "    .dataframe thead th {\n",
       "        text-align: right;\n",
       "    }\n",
       "</style>\n",
       "<table border=\"1\" class=\"dataframe\">\n",
       "  <thead>\n",
       "    <tr style=\"text-align: right;\">\n",
       "      <th></th>\n",
       "      <th>category</th>\n",
       "      <th>value</th>\n",
       "      <th>date</th>\n",
       "    </tr>\n",
       "  </thead>\n",
       "  <tbody>\n",
       "    <tr>\n",
       "      <th>0</th>\n",
       "      <td>A</td>\n",
       "      <td>10</td>\n",
       "      <td>2025-08-01</td>\n",
       "    </tr>\n",
       "    <tr>\n",
       "      <th>1</th>\n",
       "      <td>B</td>\n",
       "      <td>15</td>\n",
       "      <td>2025-08-02</td>\n",
       "    </tr>\n",
       "    <tr>\n",
       "      <th>2</th>\n",
       "      <td>A</td>\n",
       "      <td>12</td>\n",
       "      <td>2025-08-03</td>\n",
       "    </tr>\n",
       "    <tr>\n",
       "      <th>3</th>\n",
       "      <td>B</td>\n",
       "      <td>18</td>\n",
       "      <td>2025-08-04</td>\n",
       "    </tr>\n",
       "    <tr>\n",
       "      <th>4</th>\n",
       "      <td>C</td>\n",
       "      <td>25</td>\n",
       "      <td>2025-08-05</td>\n",
       "    </tr>\n",
       "  </tbody>\n",
       "</table>\n",
       "</div>"
      ],
      "text/plain": [
       "  category  value        date\n",
       "0        A     10  2025-08-01\n",
       "1        B     15  2025-08-02\n",
       "2        A     12  2025-08-03\n",
       "3        B     18  2025-08-04\n",
       "4        C     25  2025-08-05"
      ]
     },
     "execution_count": 7,
     "metadata": {},
     "output_type": "execute_result"
    }
   ],
   "source": [
    "import pandas as pd\n",
    "import os\n",
    "\n",
    "file_path = '../data/starter_data.csv'\n",
    "\n",
    "df = pd.read_csv(file_path)\n",
    "\n",
    "df.info()\n",
    "\n",
    "df.head()"
   ]
  },
  {
   "cell_type": "code",
   "execution_count": 8,
   "id": "bcd4479d",
   "metadata": {},
   "outputs": [],
   "source": [
    "import sys, os\n",
    "sys.path.insert(0, os.path.abspath('..'))\n",
    "from src import utils"
   ]
  },
  {
   "cell_type": "code",
   "execution_count": 9,
   "id": "e26a01d4",
   "metadata": {},
   "outputs": [],
   "source": [
    "numeric_summary, category_summary = utils.get_summary_stats(df)"
   ]
  },
  {
   "cell_type": "code",
   "execution_count": 10,
   "id": "3aee3fb0",
   "metadata": {},
   "outputs": [],
   "source": [
    "output_dir = '../data/processed'\n",
    "# Create the processed data directory just in case it doesn't exist\n",
    "os.makedirs(output_dir, exist_ok=True)\n",
    "\n",
    "# Define save path\n",
    "describe_output_path = os.path.join(output_dir, 'summary_describe.csv')\n",
    "groupby_output_path = os.path.join(output_dir, 'summary_groupby.csv')\n",
    "\n",
    "# Save files\n",
    "numeric_summary.to_csv(describe_output_path)\n",
    "category_summary.to_csv(groupby_output_path, index=False)"
   ]
  },
  {
   "cell_type": "code",
   "execution_count": 11,
   "id": "9da0f1f3",
   "metadata": {},
   "outputs": [],
   "source": [
    "import matplotlib.pyplot as plt"
   ]
  },
  {
   "cell_type": "code",
   "execution_count": 12,
   "id": "d648f0bf",
   "metadata": {},
   "outputs": [
    {
     "name": "stdout",
     "output_type": "stream",
     "text": [
      "Plot saved to: ../data/processed/value_by_category.png\n"
     ]
    },
    {
     "data": {
      "image/png": "[encoded data removed]",
      "text/plain": [
       "<Figure size 1000x600 with 1 Axes>"
      ]
     },
     "metadata": {},
     "output_type": "display_data"
    }
   ],
   "source": [
    "# Create the plot using the 'sum_value' column\n",
    "plt.figure(figsize=(10, 6))\n",
    "plt.bar(category_summary['category'], category_summary['sum_value'], color=['blue', 'green', 'red'])\n",
    "plt.title('Total Value by Category')\n",
    "plt.xlabel('Category')\n",
    "plt.ylabel('Total Value (Sum)')\n",
    "plt.grid(axis='y', linestyle='--')\n",
    "\n",
    "# Define the save path for the plot\n",
    "plot_path = os.path.join(output_dir, 'value_by_category.png')\n",
    "plt.savefig(plot_path)\n",
    "print(f\"Plot saved to: {plot_path}\")\n",
    "\n",
    "plt.show()"
   ]
  }
 ],
 "metadata": {
  "kernelspec": {
   "display_name": "py_env",
   "language": "python",
   "name": "python3"
  },
  "language_info": {
   "codemirror_mode": {
    "name": "ipython",
    "version": 3
   },
   "file_extension": ".py",
   "mimetype": "text/x-python",
   "name": "python",
   "nbconvert_exporter": "python",
   "pygments_lexer": "ipython3",
   "version": "3.11.13"
  }
 },
 "nbformat": 4,
 "nbformat_minor": 5
}
