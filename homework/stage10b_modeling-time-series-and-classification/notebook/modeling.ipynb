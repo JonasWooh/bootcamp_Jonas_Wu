{
 "cells": [
  {
   "cell_type": "markdown",
   "metadata": {},
   "source": [
    "# Homework Starter — Stage 10b: Time Series & Classification\n",
    "Fill in the TODOs. Use your own dataset or adapt the synthetic generator below."
   ]
  },
  {
   "cell_type": "code",
   "execution_count": 1,
   "metadata": {},
   "outputs": [],
   "source": [
    "# Imports\n",
    "import numpy as np, pandas as pd\n",
    "import matplotlib.pyplot as plt\n",
    "import seaborn as sns\n",
    "from sklearn.pipeline import Pipeline, make_pipeline\n",
    "from sklearn.preprocessing import StandardScaler\n",
    "from sklearn.linear_model import LinearRegression, LogisticRegression\n",
    "from sklearn.tree import DecisionTreeClassifier\n",
    "from sklearn.metrics import mean_absolute_error, mean_squared_error, classification_report, confusion_matrix\n",
    "from sklearn.model_selection import train_test_split, TimeSeriesSplit\n",
    "import pathlib\n",
    "\n",
    "np.random.seed(7); sns.set(); plt.rcParams['figure.figsize']=(9,4)"
   ]
  },
  {
   "cell_type": "markdown",
   "metadata": {},
   "source": [
    "## Option A: Use Your Own Data (Recommended)\n",
    "Load your data here (ensure a DateTime index for time series)."
   ]
  },
  {
   "cell_type": "code",
   "execution_count": 2,
   "metadata": {},
   "outputs": [
    {
     "name": "stdout",
     "output_type": "stream",
     "text": [
      "Dataset loaded successfully:\n"
     ]
    },
    {
     "data": {
      "text/html": [
       "<div>\n",
       "<style scoped>\n",
       "    .dataframe tbody tr th:only-of-type {\n",
       "        vertical-align: middle;\n",
       "    }\n",
       "\n",
       "    .dataframe tbody tr th {\n",
       "        vertical-align: top;\n",
       "    }\n",
       "\n",
       "    .dataframe thead th {\n",
       "        text-align: right;\n",
       "    }\n",
       "</style>\n",
       "<table border=\"1\" class=\"dataframe\">\n",
       "  <thead>\n",
       "    <tr style=\"text-align: right;\">\n",
       "      <th></th>\n",
       "      <th>open</th>\n",
       "      <th>high</th>\n",
       "      <th>low</th>\n",
       "      <th>close</th>\n",
       "      <th>volume</th>\n",
       "    </tr>\n",
       "    <tr>\n",
       "      <th>date</th>\n",
       "      <th></th>\n",
       "      <th></th>\n",
       "      <th></th>\n",
       "      <th></th>\n",
       "      <th></th>\n",
       "    </tr>\n",
       "  </thead>\n",
       "  <tbody>\n",
       "    <tr>\n",
       "      <th>1999-11-01</th>\n",
       "      <td>80.00</td>\n",
       "      <td>80.69</td>\n",
       "      <td>77.37</td>\n",
       "      <td>77.62</td>\n",
       "      <td>2487300</td>\n",
       "    </tr>\n",
       "    <tr>\n",
       "      <th>1999-11-02</th>\n",
       "      <td>78.00</td>\n",
       "      <td>81.69</td>\n",
       "      <td>77.31</td>\n",
       "      <td>80.25</td>\n",
       "      <td>3564600</td>\n",
       "    </tr>\n",
       "    <tr>\n",
       "      <th>1999-11-03</th>\n",
       "      <td>81.62</td>\n",
       "      <td>83.25</td>\n",
       "      <td>81.00</td>\n",
       "      <td>81.50</td>\n",
       "      <td>2932700</td>\n",
       "    </tr>\n",
       "    <tr>\n",
       "      <th>1999-11-04</th>\n",
       "      <td>82.06</td>\n",
       "      <td>85.37</td>\n",
       "      <td>80.62</td>\n",
       "      <td>83.62</td>\n",
       "      <td>3384700</td>\n",
       "    </tr>\n",
       "    <tr>\n",
       "      <th>1999-11-05</th>\n",
       "      <td>84.62</td>\n",
       "      <td>88.37</td>\n",
       "      <td>84.00</td>\n",
       "      <td>88.31</td>\n",
       "      <td>3721500</td>\n",
       "    </tr>\n",
       "  </tbody>\n",
       "</table>\n",
       "</div>"
      ],
      "text/plain": [
       "             open   high    low  close   volume\n",
       "date                                           \n",
       "1999-11-01  80.00  80.69  77.37  77.62  2487300\n",
       "1999-11-02  78.00  81.69  77.31  80.25  3564600\n",
       "1999-11-03  81.62  83.25  81.00  81.50  2932700\n",
       "1999-11-04  82.06  85.37  80.62  83.62  3384700\n",
       "1999-11-05  84.62  88.37  84.00  88.31  3721500"
      ]
     },
     "execution_count": 2,
     "metadata": {},
     "output_type": "execute_result"
    }
   ],
   "source": [
    "# TODO: load your data\n",
    "# df = pd.read_csv('path/to.csv', parse_dates=['Date'], index_col='Date')\n",
    "DATA_PATH = pathlib.Path('../data/raw/api_aapl.csv')\n",
    "\n",
    "df = pd.read_csv(DATA_PATH, parse_dates=['date'], index_col='date')\n",
    "\n",
    "df = df.sort_index()\n",
    "\n",
    "print(\"Dataset loaded successfully:\")\n",
    "df.head()"
   ]
  },
  {
   "cell_type": "markdown",
   "metadata": {},
   "source": [
    "## Option B: Synthetic Generator (Use if you don't have data ready)"
   ]
  },
  {
   "cell_type": "code",
   "execution_count": null,
   "metadata": {},
   "outputs": [
    {
     "data": {
      "text/html": [
       "<div>\n",
       "<style scoped>\n",
       "    .dataframe tbody tr th:only-of-type {\n",
       "        vertical-align: middle;\n",
       "    }\n",
       "\n",
       "    .dataframe tbody tr th {\n",
       "        vertical-align: top;\n",
       "    }\n",
       "\n",
       "    .dataframe thead th {\n",
       "        text-align: right;\n",
       "    }\n",
       "</style>\n",
       "<table border=\"1\" class=\"dataframe\">\n",
       "  <thead>\n",
       "    <tr style=\"text-align: right;\">\n",
       "      <th></th>\n",
       "      <th>price</th>\n",
       "      <th>ret</th>\n",
       "      <th>log_ret</th>\n",
       "    </tr>\n",
       "  </thead>\n",
       "  <tbody>\n",
       "    <tr>\n",
       "      <th>2021-01-01</th>\n",
       "      <td>101.735412</td>\n",
       "      <td>0.000000</td>\n",
       "      <td>0.000000</td>\n",
       "    </tr>\n",
       "    <tr>\n",
       "      <th>2021-01-04</th>\n",
       "      <td>101.292875</td>\n",
       "      <td>-0.004350</td>\n",
       "      <td>-0.004359</td>\n",
       "    </tr>\n",
       "    <tr>\n",
       "      <th>2021-01-05</th>\n",
       "      <td>101.356527</td>\n",
       "      <td>0.000628</td>\n",
       "      <td>0.000628</td>\n",
       "    </tr>\n",
       "    <tr>\n",
       "      <th>2021-01-06</th>\n",
       "      <td>101.800950</td>\n",
       "      <td>0.004385</td>\n",
       "      <td>0.004375</td>\n",
       "    </tr>\n",
       "    <tr>\n",
       "      <th>2021-01-07</th>\n",
       "      <td>101.031283</td>\n",
       "      <td>-0.007561</td>\n",
       "      <td>-0.007589</td>\n",
       "    </tr>\n",
       "  </tbody>\n",
       "</table>\n",
       "</div>"
      ],
      "text/plain": [
       "                 price       ret   log_ret\n",
       "2021-01-01  101.735412  0.000000  0.000000\n",
       "2021-01-04  101.292875 -0.004350 -0.004359\n",
       "2021-01-05  101.356527  0.000628  0.000628\n",
       "2021-01-06  101.800950  0.004385  0.004375\n",
       "2021-01-07  101.031283 -0.007561 -0.007589"
      ]
     },
     "execution_count": 3,
     "metadata": {},
     "output_type": "execute_result"
    }
   ],
   "source": [
    "# Synthetic series with regimes & jumps\n",
    "# n=500\n",
    "# dates=pd.bdate_range('2021-01-01', periods=n)\n",
    "# mu = np.where(np.arange(n)<n//2, 0.0003, -0.0001)\n",
    "# sigma = np.where(np.arange(n)<n//2, 0.01, 0.015)\n",
    "# eps = np.random.normal(mu, sigma)\n",
    "# jumps = np.zeros(n); jump_days = np.random.choice(np.arange(20,n-20), size=5, replace=False)\n",
    "# jumps[jump_days] = np.random.normal(0,0.05,size=len(jump_days))\n",
    "# rets = eps + jumps\n",
    "# price = 100*np.exp(np.cumsum(rets))\n",
    "# df = pd.DataFrame({'price':price}, index=dates)\n",
    "# df['ret'] = df['price'].pct_change().fillna(0.0)\n",
    "# df['log_ret'] = np.log1p(df['ret'])\n",
    "# df.head()"
   ]
  },
  {
   "cell_type": "markdown",
   "metadata": {},
   "source": [
    "## Feature Engineering"
   ]
  },
  {
   "cell_type": "code",
   "execution_count": 3,
   "id": "1256501a",
   "metadata": {},
   "outputs": [],
   "source": [
    "PRICE_COLUMN = 'close'\n",
    "\n",
    "df['ret'] = df[PRICE_COLUMN].pct_change().fillna(0.0)"
   ]
  },
  {
   "cell_type": "code",
   "execution_count": 4,
   "metadata": {},
   "outputs": [
    {
     "data": {
      "text/html": [
       "<div>\n",
       "<style scoped>\n",
       "    .dataframe tbody tr th:only-of-type {\n",
       "        vertical-align: middle;\n",
       "    }\n",
       "\n",
       "    .dataframe tbody tr th {\n",
       "        vertical-align: top;\n",
       "    }\n",
       "\n",
       "    .dataframe thead th {\n",
       "        text-align: right;\n",
       "    }\n",
       "</style>\n",
       "<table border=\"1\" class=\"dataframe\">\n",
       "  <thead>\n",
       "    <tr style=\"text-align: right;\">\n",
       "      <th></th>\n",
       "      <th>open</th>\n",
       "      <th>high</th>\n",
       "      <th>low</th>\n",
       "      <th>close</th>\n",
       "      <th>volume</th>\n",
       "      <th>ret</th>\n",
       "      <th>lag_1</th>\n",
       "      <th>roll_mean_5</th>\n",
       "      <th>roll_vol_20</th>\n",
       "      <th>y_next_ret</th>\n",
       "      <th>y_up</th>\n",
       "    </tr>\n",
       "    <tr>\n",
       "      <th>date</th>\n",
       "      <th></th>\n",
       "      <th></th>\n",
       "      <th></th>\n",
       "      <th></th>\n",
       "      <th></th>\n",
       "      <th></th>\n",
       "      <th></th>\n",
       "      <th></th>\n",
       "      <th></th>\n",
       "      <th></th>\n",
       "      <th></th>\n",
       "    </tr>\n",
       "  </thead>\n",
       "  <tbody>\n",
       "    <tr>\n",
       "      <th>1999-11-30</th>\n",
       "      <td>98.12</td>\n",
       "      <td>103.75</td>\n",
       "      <td>97.37</td>\n",
       "      <td>97.87</td>\n",
       "      <td>7528400</td>\n",
       "      <td>0.035004</td>\n",
       "      <td>-0.005260</td>\n",
       "      <td>0.004676</td>\n",
       "      <td>0.032609</td>\n",
       "      <td>0.053030</td>\n",
       "      <td>1</td>\n",
       "    </tr>\n",
       "    <tr>\n",
       "      <th>1999-12-01</th>\n",
       "      <td>101.00</td>\n",
       "      <td>104.50</td>\n",
       "      <td>100.06</td>\n",
       "      <td>103.06</td>\n",
       "      <td>5522900</td>\n",
       "      <td>0.053030</td>\n",
       "      <td>0.035004</td>\n",
       "      <td>0.015615</td>\n",
       "      <td>0.032958</td>\n",
       "      <td>0.069183</td>\n",
       "      <td>1</td>\n",
       "    </tr>\n",
       "    <tr>\n",
       "      <th>1999-12-02</th>\n",
       "      <td>103.12</td>\n",
       "      <td>110.62</td>\n",
       "      <td>101.75</td>\n",
       "      <td>110.19</td>\n",
       "      <td>5065700</td>\n",
       "      <td>0.069183</td>\n",
       "      <td>0.053030</td>\n",
       "      <td>0.021388</td>\n",
       "      <td>0.033887</td>\n",
       "      <td>0.043652</td>\n",
       "      <td>1</td>\n",
       "    </tr>\n",
       "    <tr>\n",
       "      <th>1999-12-03</th>\n",
       "      <td>112.19</td>\n",
       "      <td>115.56</td>\n",
       "      <td>111.87</td>\n",
       "      <td>115.00</td>\n",
       "      <td>5785000</td>\n",
       "      <td>0.043652</td>\n",
       "      <td>0.069183</td>\n",
       "      <td>0.031173</td>\n",
       "      <td>0.036136</td>\n",
       "      <td>0.008696</td>\n",
       "      <td>1</td>\n",
       "    </tr>\n",
       "    <tr>\n",
       "      <th>1999-12-06</th>\n",
       "      <td>114.56</td>\n",
       "      <td>117.31</td>\n",
       "      <td>111.44</td>\n",
       "      <td>116.00</td>\n",
       "      <td>4167700</td>\n",
       "      <td>0.008696</td>\n",
       "      <td>0.043652</td>\n",
       "      <td>0.039122</td>\n",
       "      <td>0.036610</td>\n",
       "      <td>0.015603</td>\n",
       "      <td>1</td>\n",
       "    </tr>\n",
       "  </tbody>\n",
       "</table>\n",
       "</div>"
      ],
      "text/plain": [
       "              open    high     low   close   volume       ret     lag_1  \\\n",
       "date                                                                      \n",
       "1999-11-30   98.12  103.75   97.37   97.87  7528400  0.035004 -0.005260   \n",
       "1999-12-01  101.00  104.50  100.06  103.06  5522900  0.053030  0.035004   \n",
       "1999-12-02  103.12  110.62  101.75  110.19  5065700  0.069183  0.053030   \n",
       "1999-12-03  112.19  115.56  111.87  115.00  5785000  0.043652  0.069183   \n",
       "1999-12-06  114.56  117.31  111.44  116.00  4167700  0.008696  0.043652   \n",
       "\n",
       "            roll_mean_5  roll_vol_20  y_next_ret  y_up  \n",
       "date                                                    \n",
       "1999-11-30     0.004676     0.032609    0.053030     1  \n",
       "1999-12-01     0.015615     0.032958    0.069183     1  \n",
       "1999-12-02     0.021388     0.033887    0.043652     1  \n",
       "1999-12-03     0.031173     0.036136    0.008696     1  \n",
       "1999-12-06     0.039122     0.036610    0.015603     1  "
      ]
     },
     "execution_count": 4,
     "metadata": {},
     "output_type": "execute_result"
    }
   ],
   "source": [
    "# TODO: create at least two features\n",
    "df['lag_1'] = df['ret'].shift(1)\n",
    "df['roll_mean_5'] = df['ret'].rolling(5).mean().shift(1)\n",
    "# Add your own:\n",
    "df['roll_vol_20'] = df['ret'].rolling(20).std().shift(1)\n",
    "df['y_next_ret'] = df['ret'].shift(-1)\n",
    "df['y_up'] = (df['y_next_ret']>0).astype(int)\n",
    "df_feat = df.dropna().copy()\n",
    "df_feat.head()"
   ]
  },
  {
   "cell_type": "markdown",
   "metadata": {},
   "source": [
    "## Split"
   ]
  },
  {
   "cell_type": "code",
   "execution_count": 6,
   "metadata": {},
   "outputs": [],
   "source": [
    "# Time-aware split\n",
    "cut=int(len(df_feat)*0.8)\n",
    "train, test = df_feat.iloc[:cut], df_feat.iloc[cut:]\n",
    "features=['lag_1','roll_mean_5', 'roll_vol_20']  # extend as you add features\n",
    "X_tr, X_te = train[features], test[features]\n",
    "y_tr_reg, y_te_reg = train['y_next_ret'], test['y_next_ret']\n",
    "y_tr_clf, y_te_clf = train['y_up'], test['y_up']"
   ]
  },
  {
   "cell_type": "markdown",
   "metadata": {},
   "source": [
    "## Pipeline + Model (Choose one track below)"
   ]
  },
  {
   "cell_type": "code",
   "execution_count": 7,
   "metadata": {},
   "outputs": [
    {
     "name": "stdout",
     "output_type": "stream",
     "text": [
      "RMSE: 0.027852622309945976\n"
     ]
    }
   ],
   "source": [
    "# Track 1: Forecasting returns\n",
    "reg = Pipeline([('scaler', StandardScaler()), ('linreg', LinearRegression())])\n",
    "reg.fit(X_tr, y_tr_reg)\n",
    "pred = reg.predict(X_te)\n",
    "rmse = np.sqrt(mean_squared_error(y_te_reg, pred))\n",
    "print('RMSE:', rmse)"
   ]
  },
  {
   "cell_type": "code",
   "execution_count": 8,
   "metadata": {},
   "outputs": [
    {
     "name": "stdout",
     "output_type": "stream",
     "text": [
      "              precision    recall  f1-score   support\n",
      "\n",
      "           0       0.44      0.03      0.05       611\n",
      "           1       0.53      0.97      0.68       683\n",
      "\n",
      "    accuracy                           0.52      1294\n",
      "   macro avg       0.48      0.50      0.37      1294\n",
      "weighted avg       0.48      0.52      0.38      1294\n",
      "\n"
     ]
    },
    {
     "data": {
      "image/png": "[encoded data removed]",
      "text/plain": [
       "<Figure size 900x400 with 2 Axes>"
      ]
     },
     "metadata": {},
     "output_type": "display_data"
    }
   ],
   "source": [
    "# Track 2: Classification (up/down)\n",
    "clf = Pipeline([('scaler', StandardScaler()), ('logit', LogisticRegression(max_iter=1000))])\n",
    "clf.fit(X_tr, y_tr_clf)\n",
    "predc = clf.predict(X_te)\n",
    "print(classification_report(y_te_clf, predc))\n",
    "cm = confusion_matrix(y_te_clf, predc)\n",
    "sns.heatmap(cm, annot=True, fmt='d'); plt.title('Confusion Matrix'); plt.show()"
   ]
  },
  {
   "cell_type": "markdown",
   "metadata": {},
   "source": [
    "## Interpretation (Markdown)\n",
    "- What worked?\n",
    "- Where might assumptions fail?\n",
    "- How would you extend features or model?"
   ]
  },
  {
   "cell_type": "markdown",
   "id": "df82f4d9",
   "metadata": {},
   "source": [
    "- **What worked?**\n",
    "  - **Pipeline and Workflow Execution**: The entire technical workflow, from data loading and feature engineering to time-aware splitting and building/evaluating the Pipelines, was successful. The code ran without errors and provided a clear, quantifiable baseline for model performance.\n",
    "  - **Feature Creation**: The `lag_1`, `roll_mean_5`, and `roll_vol_20` features were implemented correctly, and critically, data leakage was avoided by using the `.shift(1)` method. This is a crucial best practice in time-series modeling.\n",
    "\n",
    "- **Where might assumptions fail? / What Fails?**\n",
    "  - **Forecasting Model (Linear Regression)**:\n",
    "    - This model performed very poorly. The RMSE of 0.02785 is substantial for daily returns, indicating that the model's predictions have a large average error and are not reliable.\n",
    "    - The model's failure stems from its core assumption: that a stable **linear relationship** exists between past returns/volatility and the next day's return. Financial markets are highly dynamic and complex; this simple linear assumption is almost always invalid.\n",
    "  \n",
    "  - **Classification Model (Logistic Regression)**:\n",
    "    - This model is a classic example of being \"deceptively accurate.\" While the **overall accuracy is 52%**, which is slightly better than a 50/50 random guess, a deeper look reveals a critical flaw.\n",
    "    - **A Biased Strategy**: The confusion matrix and classification report show that the model is heavily **biased towards predicting \"Up\" (class 1)**. Out of 1294 test samples, it predicted \"Up\" 1254 times.\n",
    "    - **The Illusion of High Recall**: The model achieves a 97% recall for the \"Up\" class. This seems impressive, but it's only because the model almost always guesses \"Up,\" so it naturally \"recalls\" most of the days the market actually went up.\n",
    "    - **The Reality of Low Precision**: Its precision for the \"Up\" class is only 53%. This means that when the model predicts the market will go up, it's only correct 53% of the time—no better than a coin toss.\n",
    "    - **Complete Failure to Predict \"Down\"**: Most critically, the recall for the \"Down\" class is a mere 3%. This means the model **fails to identify almost any day the market will go down**, making it extremely dangerous and useless in a real-world scenario.\n",
    "    - **Root Cause**: The model did not learn any true predictive patterns. It simply learned the historical bias in the training data (i.e., there were likely slightly more up days than down days) and adopted the naive strategy of \"always guess up\" to achieve an accuracy just over 50%.\n",
    "\n",
    "- **How would you extend features or model?**\n",
    "  - Based on this analysis, the next steps must focus on building a model that learns real patterns, not just simple biases.\n",
    "    1.  **Address Class Imbalance**: First, I would check the balance of \"Up\" vs. \"Down\" days in the training set. If it's imbalanced, I would use the `class_weight='balanced'` parameter in `LogisticRegression` to penalize misclassifications of the minority class (likely \"Down\") more heavily.\n",
    "    2.  **More Advanced Feature Engineering**: The current features are too simplistic. I would create more financially meaningful indicators, such as:\n",
    "        - **Momentum Indicators**: Relative Strength Index (RSI), MACD.\n",
    "        - **Volatility Measures**: Average True Range (ATR).\n",
    "        - **Cross-Market Correlations**: Lagged returns of other indices (like the S&P 500) or volatility indices (like the VIX).\n",
    "    3.  **Use More Powerful Models**: Since linear models failed, I would move to non-linear models that can capture more complex patterns:\n",
    "        - **Tree-Based Models**: Random Forest, XGBoost, or LightGBM are very powerful for classification tasks on tabular data.\n",
    "        - **Ensemble Methods**: Combining the predictions of several different models can often lead to more robust results."
   ]
  },
  {
   "cell_type": "markdown",
   "metadata": {},
   "source": [
    "### Save Notebook\n",
    "Remember to save as `notebooks/modeling_<team>.ipynb`."
   ]
  }
 ],
 "metadata": {
  "kernelspec": {
   "display_name": "py_env",
   "language": "python",
   "name": "python3"
  },
  "language_info": {
   "codemirror_mode": {
    "name": "ipython",
    "version": 3
   },
   "file_extension": ".py",
   "mimetype": "text/x-python",
   "name": "python",
   "nbconvert_exporter": "python",
   "pygments_lexer": "ipython3",
   "version": "3.11.13"
  }
 },
 "nbformat": 4,
 "nbformat_minor": 5
}
