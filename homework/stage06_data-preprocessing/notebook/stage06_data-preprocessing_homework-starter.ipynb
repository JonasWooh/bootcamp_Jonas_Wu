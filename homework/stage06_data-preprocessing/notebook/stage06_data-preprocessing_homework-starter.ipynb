{
 "cells": [
  {
   "cell_type": "markdown",
   "metadata": {},
   "source": [
    "# Homework Starter — Stage 6: Data Preprocessing\n",
    "Use this notebook to apply your cleaning functions and save processed data."
   ]
  },
  {
   "cell_type": "code",
   "execution_count": 1,
   "metadata": {},
   "outputs": [],
   "source": [
    "import sys, os\n",
    "sys.path.insert(0, os.path.abspath('..'))"
   ]
  },
  {
   "cell_type": "code",
   "execution_count": 2,
   "metadata": {},
   "outputs": [],
   "source": [
    "import pandas as pd\n",
    "from src import cleaning"
   ]
  },
  {
   "cell_type": "markdown",
   "metadata": {},
   "source": [
    "## Load Raw Dataset"
   ]
  },
  {
   "cell_type": "code",
   "execution_count": 3,
   "metadata": {},
   "outputs": [
    {
     "name": "stdout",
     "output_type": "stream",
     "text": [
      "Raw dataset loaded successfully.\n",
      "   MarketID MarketSize  LocationID  AgeOfStore  Promotion  week  \\\n",
      "0         1     Medium           1           4          3     1   \n",
      "1         1     Medium           1           4          3     2   \n",
      "2         1     Medium           1           4          3     3   \n",
      "3         1     Medium           1           4          3     4   \n",
      "4         1     Medium           2           5          2     1   \n",
      "\n",
      "   SalesInThousands  \n",
      "0             33.73  \n",
      "1             35.67  \n",
      "2             29.03  \n",
      "3             39.25  \n",
      "4             27.81  \n",
      "\n",
      "Raw Data Info:\n",
      "<class 'pandas.core.frame.DataFrame'>\n",
      "RangeIndex: 548 entries, 0 to 547\n",
      "Data columns (total 7 columns):\n",
      " #   Column            Non-Null Count  Dtype  \n",
      "---  ------            --------------  -----  \n",
      " 0   MarketID          548 non-null    int64  \n",
      " 1   MarketSize        548 non-null    object \n",
      " 2   LocationID        548 non-null    int64  \n",
      " 3   AgeOfStore        548 non-null    int64  \n",
      " 4   Promotion         548 non-null    int64  \n",
      " 5   week              548 non-null    int64  \n",
      " 6   SalesInThousands  548 non-null    float64\n",
      "dtypes: float64(1), int64(5), object(1)\n",
      "memory usage: 30.1+ KB\n"
     ]
    }
   ],
   "source": [
    "raw_data_path = '../data/raw/sample_data.csv'\n",
    "\n",
    "if os.path.exists(raw_data_path):\n",
    "    df_raw = pd.read_csv(raw_data_path)\n",
    "    print(\"Raw dataset loaded successfully.\")\n",
    "    print(df_raw.head())\n",
    "    print(\"\\nRaw Data Info:\")\n",
    "    df_raw.info()\n",
    "else:\n",
    "    print(f\"Error: Raw dataset not found at {raw_data_path}. Please ensure dataset is in the '../data/raw/' directory.\")\n",
    "    df_raw = pd.DataFrame()"
   ]
  },
  {
   "cell_type": "markdown",
   "metadata": {},
   "source": [
    "## Apply Cleaning Functions"
   ]
  },
  {
   "cell_type": "code",
   "execution_count": 4,
   "metadata": {},
   "outputs": [
    {
     "name": "stdout",
     "output_type": "stream",
     "text": [
      "Dropped 0 columns due to more than 50.0% missing values.\n",
      "Dropped 0 rows due to remaining missing values.\n",
      "Warning: Column 'col1' not found or not numeric. Skipping normalization for this column.\n",
      "Warning: Column 'col2' not found or not numeric. Skipping normalization for this column.\n",
      "\n",
      "Cleaning process complete.\n"
     ]
    }
   ],
   "source": [
    "# TODO: Apply your functions here\n",
    "# Example:\n",
    "df_cleaned = df_raw.copy()\n",
    "\n",
    "df_cleaned = cleaning.fill_missing_median(df_cleaned, ['col1','col2'])\n",
    "df_cleaned = cleaning.drop_missing(df_cleaned, threshold=0.5)\n",
    "df_cleaned = cleaning.normalize_data(df_cleaned, ['col1','col2'])\n",
    "\n",
    "print(\"\\nCleaning process complete.\")"
   ]
  },
  {
   "cell_type": "markdown",
   "metadata": {},
   "source": [
    "## Save Cleaned Dataset"
   ]
  },
  {
   "cell_type": "code",
   "execution_count": 5,
   "metadata": {},
   "outputs": [
    {
     "name": "stdout",
     "output_type": "stream",
     "text": [
      "Cleaned dataset saved successfully to: ../data/processed/sample_data_cleaned.csv\n"
     ]
    }
   ],
   "source": [
    "# df.to_csv('../data/processed/sample_data_cleaned.csv', index=False)\n",
    "output_dir = '../data/processed/'\n",
    "output_file = os.path.join(output_dir, 'sample_data_cleaned.csv')\n",
    "\n",
    "# Create the output directory if it doesn't exist\n",
    "os.makedirs(output_dir, exist_ok=True)\n",
    "\n",
    "if not df_cleaned.empty:\n",
    "    df_cleaned.to_csv(output_file, index=False)\n",
    "    print(f\"Cleaned dataset saved successfully to: {output_file}\")\n",
    "else:\n",
    "    print(\"Cannot save: Cleaned DataFrame is empty.\")"
   ]
  }
 ],
 "metadata": {
  "kernelspec": {
   "display_name": "py_env",
   "language": "python",
   "name": "python3"
  },
  "language_info": {
   "codemirror_mode": {
    "name": "ipython",
    "version": 3
   },
   "file_extension": ".py",
   "mimetype": "text/x-python",
   "name": "python",
   "nbconvert_exporter": "python",
   "pygments_lexer": "ipython3",
   "version": "3.11.13"
  }
 },
 "nbformat": 4,
 "nbformat_minor": 2
}
